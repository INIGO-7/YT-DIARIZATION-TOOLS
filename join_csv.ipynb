{
 "cells": [
  {
   "cell_type": "code",
   "execution_count": 2,
   "metadata": {},
   "outputs": [],
   "source": [
    "import pandas as pd\n",
    "import os"
   ]
  },
  {
   "cell_type": "code",
   "execution_count": 3,
   "metadata": {},
   "outputs": [],
   "source": [
    "directory = \"transcribed-audio\"\n",
    "csv_files = [file for file in os.listdir(directory) if file.endswith('.csv')]"
   ]
  },
  {
   "cell_type": "code",
   "execution_count": 4,
   "metadata": {},
   "outputs": [],
   "source": [
    "combined_data = pd.DataFrame()\n",
    "for file_name in csv_files:\n",
    "    file_path = os.path.join(directory, file_name)\n",
    "    \n",
    "    temp_df = pd.read_csv(file_path)\n",
    "    \n",
    "    temp_df = temp_df[['text', 'start', 'end']]\n",
    "    temp_df['podcast'] = os.path.splitext(file_name)[0]\n",
    "    \n",
    "    combined_data = pd.concat([combined_data, temp_df], ignore_index=True)"
   ]
  },
  {
   "cell_type": "code",
   "execution_count": 7,
   "metadata": {},
   "outputs": [
    {
     "data": {
      "text/html": [
       "<div>\n",
       "<style scoped>\n",
       "    .dataframe tbody tr th:only-of-type {\n",
       "        vertical-align: middle;\n",
       "    }\n",
       "\n",
       "    .dataframe tbody tr th {\n",
       "        vertical-align: top;\n",
       "    }\n",
       "\n",
       "    .dataframe thead th {\n",
       "        text-align: right;\n",
       "    }\n",
       "</style>\n",
       "<table border=\"1\" class=\"dataframe\">\n",
       "  <thead>\n",
       "    <tr style=\"text-align: right;\">\n",
       "      <th></th>\n",
       "      <th>text</th>\n",
       "      <th>start</th>\n",
       "      <th>end</th>\n",
       "      <th>podcast</th>\n",
       "    </tr>\n",
       "  </thead>\n",
       "  <tbody>\n",
       "    <tr>\n",
       "      <th>0</th>\n",
       "      <td>So today's the day, finally doing the flagran...</td>\n",
       "      <td>0.00</td>\n",
       "      <td>7.00</td>\n",
       "      <td>casey_flagrant_audio_transcribed</td>\n",
       "    </tr>\n",
       "    <tr>\n",
       "      <th>1</th>\n",
       "      <td>Pretty excited about what you guys doing.</td>\n",
       "      <td>14.12</td>\n",
       "      <td>17.88</td>\n",
       "      <td>casey_flagrant_audio_transcribed</td>\n",
       "    </tr>\n",
       "    <tr>\n",
       "      <th>2</th>\n",
       "      <td>Casey!</td>\n",
       "      <td>17.88</td>\n",
       "      <td>18.88</td>\n",
       "      <td>casey_flagrant_audio_transcribed</td>\n",
       "    </tr>\n",
       "    <tr>\n",
       "      <th>3</th>\n",
       "      <td>Hey Casey, everybody we're trying to vlog.</td>\n",
       "      <td>18.88</td>\n",
       "      <td>20.44</td>\n",
       "      <td>casey_flagrant_audio_transcribed</td>\n",
       "    </tr>\n",
       "    <tr>\n",
       "      <th>4</th>\n",
       "      <td>What's up man?</td>\n",
       "      <td>20.44</td>\n",
       "      <td>21.44</td>\n",
       "      <td>casey_flagrant_audio_transcribed</td>\n",
       "    </tr>\n",
       "  </tbody>\n",
       "</table>\n",
       "</div>"
      ],
      "text/plain": [
       "                                                text  start    end  \\\n",
       "0   So today's the day, finally doing the flagran...   0.00   7.00   \n",
       "1          Pretty excited about what you guys doing.  14.12  17.88   \n",
       "2                                             Casey!  17.88  18.88   \n",
       "3         Hey Casey, everybody we're trying to vlog.  18.88  20.44   \n",
       "4                                     What's up man?  20.44  21.44   \n",
       "\n",
       "                            podcast  \n",
       "0  casey_flagrant_audio_transcribed  \n",
       "1  casey_flagrant_audio_transcribed  \n",
       "2  casey_flagrant_audio_transcribed  \n",
       "3  casey_flagrant_audio_transcribed  \n",
       "4  casey_flagrant_audio_transcribed  "
      ]
     },
     "execution_count": 7,
     "metadata": {},
     "output_type": "execute_result"
    }
   ],
   "source": [
    "combined_data.head()"
   ]
  },
  {
   "cell_type": "code",
   "execution_count": 8,
   "metadata": {},
   "outputs": [],
   "source": [
    "combined_data.to_csv('combined_podcasts.csv', index=False)"
   ]
  }
 ],
 "metadata": {
  "kernelspec": {
   "display_name": "nlpenv",
   "language": "python",
   "name": "python3"
  },
  "language_info": {
   "codemirror_mode": {
    "name": "ipython",
    "version": 3
   },
   "file_extension": ".py",
   "mimetype": "text/x-python",
   "name": "python",
   "nbconvert_exporter": "python",
   "pygments_lexer": "ipython3",
   "version": "3.12.0"
  }
 },
 "nbformat": 4,
 "nbformat_minor": 2
}
