{
 "cells": [
  {
   "cell_type": "markdown",
   "metadata": {},
   "source": [
    "### Dataset and imports"
   ]
  },
  {
   "cell_type": "code",
   "execution_count": null,
   "metadata": {},
   "outputs": [],
   "source": [
    "import pandas as pd\n",
    "import numpy as np\n",
    "import os\n",
    "\n",
    "import nltk\n",
    "from nltk.tokenize import word_tokenize\n",
    "from nltk.corpus import stopwords\n",
    "\n",
    "nltk.download('stopwords')\n",
    "nltk.download('punkt')\n",
    "stop_words = stopwords.words('english')\n",
    "\n",
    "from sklearn.metrics import confusion_matrix\n",
    "from sklearn.metrics.pairwise import cosine_similarity"
   ]
  },
  {
   "cell_type": "code",
   "execution_count": null,
   "metadata": {},
   "outputs": [],
   "source": [
    "full_df = pd.read_csv(os.path.join('datasets', 'balancedLength_lexFridman_resto.csv'))\n",
    "speaker_series = full_df.groupby('speaker')['text'].apply(lambda x: ''.join(x))"
   ]
  },
  {
   "cell_type": "code",
   "execution_count": null,
   "metadata": {},
   "outputs": [],
   "source": [
    "corpus_fridman = speaker_series[\"LEXFRIDMAN\"]\n",
    "corpus_resto = speaker_series[\"RESTO\"]"
   ]
  },
  {
   "cell_type": "code",
   "execution_count": null,
   "metadata": {},
   "outputs": [],
   "source": [
    "print(sum(full_df['speaker'] == 'LEXFRIDMAN'))\n",
    "print(sum(full_df['speaker'] == 'RESTO'))"
   ]
  },
  {
   "cell_type": "markdown",
   "metadata": {},
   "source": [
    "### COSINE SIMILARITY"
   ]
  },
  {
   "cell_type": "markdown",
   "metadata": {},
   "source": [
    "Generate random sentences from the dataset"
   ]
  },
  {
   "cell_type": "code",
   "execution_count": null,
   "metadata": {},
   "outputs": [],
   "source": [
    "#Get random sentences from both. Execute until satisfied with choice\n",
    "random_sent_fridman = np.random.choice(full_df[full_df['speaker'] == 'LEXFRIDMAN']['text'].to_list())\n",
    "random_sent_resto = np.random.choice(full_df[full_df['speaker'] == 'RESTO']['text'].to_list())\n",
    "print(\"LEXFRIDMAN:\", random_sent_fridman)\n",
    "print(\"RESTO:\", random_sent_resto)"
   ]
  },
  {
   "cell_type": "markdown",
   "metadata": {},
   "source": [
    "#### Get similarity with Word2Vec"
   ]
  },
  {
   "cell_type": "code",
   "execution_count": null,
   "metadata": {},
   "outputs": [],
   "source": [
    "# Preprocessing (assuming the model was trained on lowercased text)\n",
    "def preprocess(text):\n",
    "    return [word for word in word_tokenize(text) if word.isalpha() and word not in stop_words]"
   ]
  },
  {
   "cell_type": "code",
   "execution_count": null,
   "metadata": {},
   "outputs": [],
   "source": [
    "from gensim.models import Word2Vec\n",
    "\n",
    "# Load the pre-trained Word2Vec model\n",
    "model = Word2Vec.load('podcast_Word2Vec')"
   ]
  },
  {
   "cell_type": "code",
   "execution_count": null,
   "metadata": {},
   "outputs": [],
   "source": [
    "# Convert text to vectors\n",
    "def text_to_vector(text):\n",
    "    words = preprocess(text)\n",
    "    word_vecs = [model.wv[word] for word in words if word in model.wv]\n",
    "    return np.mean(word_vecs, axis=0) if word_vecs else np.zeros(model.vector_size)\n",
    "\n",
    "corpus_fridman_vec = text_to_vector(corpus_fridman)\n",
    "corpus_resto_vec = text_to_vector(corpus_resto)"
   ]
  },
  {
   "cell_type": "code",
   "execution_count": null,
   "metadata": {},
   "outputs": [],
   "source": [
    "def who_said_this(sentence : str, corpus_fridman_vec, corpus_resto_vec):\n",
    "\n",
    "    sentence_vec = text_to_vector(sentence)\n",
    "\n",
    "    corpus_fridman_sim = cosine_similarity(corpus_fridman_vec.reshape(1, -1), sentence_vec.reshape(1, -1))\n",
    "    corpus_resto_sim = cosine_similarity(corpus_resto_vec.reshape(1, -1), sentence_vec.reshape(1, -1))\n",
    "\n",
    "    return 'LEXFRIDMAN' if corpus_fridman_sim > corpus_resto_sim else 'RESTO'"
   ]
  },
  {
   "cell_type": "code",
   "execution_count": null,
   "metadata": {},
   "outputs": [],
   "source": [
    "# Check that the function works with random sentences from Fridman and his guests\n",
    "\n",
    "#Should return LEXFRIDMAN\n",
    "print(who_said_this(random_sent_fridman, corpus_fridman_vec, corpus_resto_vec))\n",
    "\n",
    "#Should return RESTO\n",
    "print(who_said_this(random_sent_resto, corpus_fridman_vec, corpus_resto_vec))"
   ]
  },
  {
   "cell_type": "code",
   "execution_count": null,
   "metadata": {},
   "outputs": [],
   "source": [
    "def measure_predictive_capability(\n",
    "        full_df: pd.DataFrame, \n",
    "        corpus_fridman_vec: np.ndarray, \n",
    "        corpus_resto_vec: np.ndarray\n",
    "):\n",
    "\n",
    "    \"\"\"\n",
    "    Create a confusion matrix to determine how good the predictions are with cosine similarity.\n",
    "\n",
    "    Parameters\n",
    "    -------------------------------------------------------------------------------------------\n",
    "    full_df: pd.DataFrame\n",
    "        The original dataframe with tagged speaker interventions\n",
    "    corpus_fridman_vec: np.ndarray\n",
    "        All the text said by Lex Fridman, represented by a 350 number embedding\n",
    "    corpus_resto_vec: np.ndarray\n",
    "        All the text said by Fridman's guests, represented by a 350 number embedding\n",
    "    \"\"\"\n",
    "\n",
    "    data = [\n",
    "        {\n",
    "            'predicted_label': who_said_this(row['text'], corpus_fridman_vec, corpus_resto_vec),\n",
    "            'true_label': row['speaker']\n",
    "        \n",
    "        } for _, row in full_df.iterrows()\n",
    "    ]\n",
    "\n",
    "    # Create DataFrame in one go.\n",
    "    df = pd.DataFrame(data)\n",
    "        \n",
    "    return confusion_matrix(df['true_label'], df['predicted_label'], labels=df['true_label'].unique())"
   ]
  },
  {
   "cell_type": "code",
   "execution_count": null,
   "metadata": {},
   "outputs": [],
   "source": [
    "def calculate_metrics(confusion_matrix: np.ndarray):\n",
    "\n",
    "    \"\"\"\n",
    "    Function that calculates various metrics given a confusion matrix\n",
    "\n",
    "    Parameters\n",
    "    -----------------------------------------------------------------\n",
    "    confusion_matrix: np.ndarray\n",
    "        Confusion matrix, a numpy array with the true positives,\n",
    "        true negatives, false positives and false negatives.\n",
    "    \"\"\"\n",
    "\n",
    "    # Unpack the confusion matrix\n",
    "    TN, FP, FN, TP = confusion_matrix.ravel()\n",
    "\n",
    "    # Metrics\n",
    "    # important: careful dividing by zero!\n",
    "    precision = TP / (TP + FP) if (TP + FP) != 0 else 0\n",
    "    recall = TP / (TP + FN) if (TP + FN) != 0 else 0\n",
    "    accuracy = (TP + TN) / np.sum(confusion_matrix)\n",
    "    f1_score = 2 * (precision * recall) / (precision + recall) if (precision + recall) != 0 else 0\n",
    "\n",
    "    return precision * 100, recall * 100, accuracy * 100, f1_score"
   ]
  },
  {
   "cell_type": "code",
   "execution_count": null,
   "metadata": {},
   "outputs": [],
   "source": [
    "# Get the confusion matrix\n",
    "conf_matrix = measure_predictive_capability(full_df, corpus_fridman_vec, corpus_resto_vec)\n",
    "print(conf_matrix)\n",
    "\n",
    "print('----------------------')\n",
    "\n",
    "# Get the metrics for the matrix\n",
    "precision, recall, accuracy, f1_score = calculate_metrics(conf_matrix)\n",
    "print(f\"Precision: {precision:.2f}%\")\n",
    "print(f\"Recall: {recall:.2f}%\")\n",
    "print(f\"Accuracy: {accuracy:.2f}%\")\n",
    "print(f\"F1 Score: {f1_score:.2f}\")\n"
   ]
  },
  {
   "cell_type": "code",
   "execution_count": null,
   "metadata": {},
   "outputs": [],
   "source": [
    "import matplotlib.pyplot as plt\n",
    "import seaborn as sns\n",
    "\n",
    "labels = ['LEXFRIDMAN', 'RESTO']\n",
    "sns.heatmap(conf_matrix, annot=True, fmt='g', cmap='Blues', cbar=False, xticklabels=labels, yticklabels=labels)\n",
    "plt.title('Confusion Matrix', fontsize=15)\n",
    "plt.show()\n"
   ]
  }
 ],
 "metadata": {
  "kernelspec": {
   "display_name": "YTANDWHISPER",
   "language": "python",
   "name": "python3"
  },
  "language_info": {
   "codemirror_mode": {
    "name": "ipython",
    "version": 3
   },
   "file_extension": ".py",
   "mimetype": "text/x-python",
   "name": "python",
   "nbconvert_exporter": "python",
   "pygments_lexer": "ipython3",
   "version": "3.10.13"
  },
  "orig_nbformat": 4
 },
 "nbformat": 4,
 "nbformat_minor": 2
}
