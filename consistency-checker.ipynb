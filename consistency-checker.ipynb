{
 "cells": [
  {
   "cell_type": "code",
   "execution_count": 36,
   "metadata": {},
   "outputs": [],
   "source": [
    "import os\n",
    "from pydub import AudioSegment\n",
    "import re\n",
    "import numpy as np\n",
    "import pandas as pd\n",
    "from datetime import timedelta"
   ]
  },
  {
   "cell_type": "code",
   "execution_count": 60,
   "metadata": {},
   "outputs": [],
   "source": [
    "d_path = \"diarized_audio/raw_diarizations\"\n",
    "diarization_paths = {}\n",
    "for directory in os.listdir(d_path):\n",
    "    diarization_paths[directory] = os.path.join(d_path, directory)"
   ]
  },
  {
   "cell_type": "markdown",
   "metadata": {},
   "source": [
    "First, process all the files to have a suitable format. This will be a pandas dataframe, stored in memory as a .csv file"
   ]
  },
  {
   "cell_type": "code",
   "execution_count": 51,
   "metadata": {},
   "outputs": [
    {
     "data": {
      "text/plain": [
       "Timedelta('0 days 00:00:00')"
      ]
     },
     "execution_count": 51,
     "metadata": {},
     "output_type": "execute_result"
    }
   ],
   "source": [
    "time1 = pd.Timedelta('00:00:06.186')\n",
    "time2 = pd.Timedelta('00:00:27.836')"
   ]
  },
  {
   "cell_type": "code",
   "execution_count": 72,
   "metadata": {},
   "outputs": [],
   "source": [
    "# Remove all csv files from diarization directory\n",
    "for path in os.listdir(d_path):\n",
    "    !rm -r {os.path.join(d_path, path)}/speaker_turns.csv"
   ]
  },
  {
   "cell_type": "code",
   "execution_count": 79,
   "metadata": {},
   "outputs": [],
   "source": [
    "import datetime\n",
    "\n",
    "\n",
    "def parse_time(time_str):\n",
    "    # Parses the time string to a pandas.Timedelta object\n",
    "    return pd.Timedelta(time_str)\n",
    "\n",
    "def process_line(line):\n",
    "    # Splits the line and extracts the required information\n",
    "    time_data, speaker = line.split(']')\n",
    "    time_data = time_data[2:]\n",
    "    start_time, end_time = time_data.split(' -->  ')\n",
    "    speaker = speaker.split(' ')[-1]  # Gets only the SPEAKER_xx part\n",
    "    return speaker, parse_time(start_time), parse_time(end_time)\n",
    "\n",
    "# Example of processing the file\n",
    "def process_all_diarizations(to_replace_dict):\n",
    "    for directory in list(diarization_paths.values()):\n",
    "\n",
    "        podcast_df = pd.DataFrame(columns=['speaker', 'start', 'end'])\n",
    "        global_time = pd.Timedelta('0')\n",
    "\n",
    "        for split in os.listdir(directory):\n",
    "            \n",
    "            file_path = os.path.join(directory, split)\n",
    "            # get split number with regex that searches for a number\n",
    "            number = re.search(r'\\d+(\\.\\d+)?', split).group()\n",
    "            # get the speakers (SPEAKER_00, SPEAKER_...) that talk in this split\n",
    "            #talkers = [\"SPEAKER_\" + n for n in re.split(\"[,;]\", to_replace_dict[number])[0::2]]\n",
    "            print(directory, split)\n",
    "            if to_replace_dict[number] == \"\":\n",
    "                continue\n",
    "\n",
    "            real_speakers = to_replace_dict[number].split(\";\")\n",
    "\n",
    "            with open(file_path, 'r') as file:\n",
    "                for line in file:\n",
    "                    speaker, start, end = process_line(line)\n",
    "\n",
    "                    # Set the correct speaker\n",
    "                    speaker = speaker.strip('\\n')\n",
    "                    for rsp in real_speakers:\n",
    "                        if rsp[0] == speaker:\n",
    "                            speaker = rsp[1]\n",
    "                    \n",
    "                    # Adjust start and end to the global time\n",
    "                    start = start + global_time\n",
    "                    end = end + global_time\n",
    "                    podcast_df.loc[len(podcast_df)] = [speaker, start, end]\n",
    "            \n",
    "            global_time = podcast_df[\"end\"].max()\n",
    "        \n",
    "        podcast_df.to_csv(os.path.join(directory, \"speaker_turns.csv\"), header=True, index=False)"
   ]
  },
  {
   "cell_type": "code",
   "execution_count": 105,
   "metadata": {},
   "outputs": [],
   "source": [
    "def process_andrew_huberman(to_replace_dict):\n",
    "    directory = \"diarized_audio/raw_diarizations/flagrant-andrewHubermam-17102022\"\n",
    "\n",
    "    podcast_df = pd.DataFrame(columns=['speaker', 'start', 'end'])\n",
    "    global_time = pd.Timedelta('0')\n",
    "\n",
    "    for split in os.listdir(directory):\n",
    "        \n",
    "        file_path = os.path.join(directory, split)\n",
    "        # get split number with regex that searches for a number\n",
    "        number = re.search(r'\\d+(\\.\\d+)?', split).group()\n",
    "        # get the speakers (SPEAKER_00, SPEAKER_...) that talk in this split\n",
    "        #talkers = [\"SPEAKER_\" + n for n in re.split(\"[,;]\", to_replace_dict[number])[0::2]]\n",
    "        \n",
    "        if to_replace_dict[number] == \"\":   #TODO hay que utilizarlo pero no aquí\n",
    "            continue\n",
    "\n",
    "        real_speakers = to_replace_dict[number].split(\";\")\n",
    "\n",
    "        with open(file_path, 'r') as file:\n",
    "            for line in file:\n",
    "                speaker, start, end = process_line(line)\n",
    "\n",
    "                # Set the correct speaker\n",
    "                speaker = speaker.strip('\\n')\n",
    "                for rsp in real_speakers:\n",
    "                    rsp = rsp.split(\",\")\n",
    "                    pyannote_speaker = 'SPEAKER_' + rsp[0]\n",
    "                    \n",
    "                    if pyannote_speaker == speaker:\n",
    "                        speaker = rsp[1]\n",
    "                \n",
    "                # Adjust start and end to the global time\n",
    "                start = start + global_time\n",
    "                end = end + global_time\n",
    "                podcast_df.loc[len(podcast_df)] = [speaker, start, end]\n",
    "        \n",
    "        global_time = podcast_df[\"end\"].max()\n",
    "    \n",
    "    podcast_df.to_csv(os.path.join(directory, \"speaker_turns.csv\"), header=True, index=False)"
   ]
  },
  {
   "cell_type": "code",
   "execution_count": 98,
   "metadata": {},
   "outputs": [],
   "source": [
    "to_replace_dict = {\n",
    "    \"1\":\"00,HUBERMAN;01,ANDREW\",\n",
    "    \"2\":\"00,HUBERMAN;01,ANDREW\",\n",
    "    \"3\":\"01,HUBERMAN;00,ANDREW\",\n",
    "    \"4\":\"00,HUBERMAN;01,ANDREW\",\n",
    "    \"5\":\"02,HUBERMAN;01,ANDREW\",\n",
    "    \"6\":\"01,HUBERMAN;00,ANDREW\",\n",
    "    \"7\":\"01,HUBERMAN\",\n",
    "    \"8\":\"01,HUBERMAN;02,ANDREW\",\n",
    "    \"9\":\"01,HUBERMAN;00,ANDREW\",\n",
    "    \"10\":\"02,HUBERMAN;03,ANDREW\",\n",
    "    \"11\":\"02,HUBERMAN;01,ANDREW\",\n",
    "    \"12\":\"00,HUBERMAN\",\n",
    "    \"13\":\"00,HUBERMAN;01,ANDREW\"\n",
    "}\n",
    "\n",
    "# dejar value de key vacío para indicar que no queremos coger de ese split\n",
    "\n",
    "process_andrew_huberman(to_replace_dict)"
   ]
  },
  {
   "cell_type": "code",
   "execution_count": 96,
   "metadata": {},
   "outputs": [
    {
     "data": {
      "text/html": [
       "<div>\n",
       "<style scoped>\n",
       "    .dataframe tbody tr th:only-of-type {\n",
       "        vertical-align: middle;\n",
       "    }\n",
       "\n",
       "    .dataframe tbody tr th {\n",
       "        vertical-align: top;\n",
       "    }\n",
       "\n",
       "    .dataframe thead th {\n",
       "        text-align: right;\n",
       "    }\n",
       "</style>\n",
       "<table border=\"1\" class=\"dataframe\">\n",
       "  <thead>\n",
       "    <tr style=\"text-align: right;\">\n",
       "      <th></th>\n",
       "      <th>speaker</th>\n",
       "      <th>start</th>\n",
       "      <th>end</th>\n",
       "    </tr>\n",
       "  </thead>\n",
       "  <tbody>\n",
       "    <tr>\n",
       "      <th>0</th>\n",
       "      <td>0</td>\n",
       "      <td>0 days 00:00:01.390000</td>\n",
       "      <td>0 days 00:02:44.598000</td>\n",
       "    </tr>\n",
       "    <tr>\n",
       "      <th>1</th>\n",
       "      <td>SPEAKER_01</td>\n",
       "      <td>0 days 00:00:18.984000</td>\n",
       "      <td>0 days 00:00:23.796000</td>\n",
       "    </tr>\n",
       "    <tr>\n",
       "      <th>2</th>\n",
       "      <td>SPEAKER_01</td>\n",
       "      <td>0 days 00:00:29.496000</td>\n",
       "      <td>0 days 00:00:30.366000</td>\n",
       "    </tr>\n",
       "    <tr>\n",
       "      <th>3</th>\n",
       "      <td>SPEAKER_01</td>\n",
       "      <td>0 days 00:01:04.087000</td>\n",
       "      <td>0 days 00:01:04.496000</td>\n",
       "    </tr>\n",
       "    <tr>\n",
       "      <th>4</th>\n",
       "      <td>SPEAKER_01</td>\n",
       "      <td>0 days 00:01:07.346000</td>\n",
       "      <td>0 days 00:01:07.841000</td>\n",
       "    </tr>\n",
       "    <tr>\n",
       "      <th>...</th>\n",
       "      <td>...</td>\n",
       "      <td>...</td>\n",
       "      <td>...</td>\n",
       "    </tr>\n",
       "    <tr>\n",
       "      <th>633</th>\n",
       "      <td>0</td>\n",
       "      <td>0 days 02:12:58.383000</td>\n",
       "      <td>0 days 02:12:59.407000</td>\n",
       "    </tr>\n",
       "    <tr>\n",
       "      <th>634</th>\n",
       "      <td>0</td>\n",
       "      <td>0 days 02:13:02.069000</td>\n",
       "      <td>0 days 02:13:07.751000</td>\n",
       "    </tr>\n",
       "    <tr>\n",
       "      <th>635</th>\n",
       "      <td>0</td>\n",
       "      <td>0 days 02:13:11.096000</td>\n",
       "      <td>0 days 02:13:11.437000</td>\n",
       "    </tr>\n",
       "    <tr>\n",
       "      <th>636</th>\n",
       "      <td>0</td>\n",
       "      <td>0 days 02:13:14.987000</td>\n",
       "      <td>0 days 02:13:35.994000</td>\n",
       "    </tr>\n",
       "    <tr>\n",
       "      <th>637</th>\n",
       "      <td>1</td>\n",
       "      <td>0 days 02:13:32.973000</td>\n",
       "      <td>0 days 02:13:35.994000</td>\n",
       "    </tr>\n",
       "  </tbody>\n",
       "</table>\n",
       "<p>638 rows × 3 columns</p>\n",
       "</div>"
      ],
      "text/plain": [
       "        speaker                   start                     end\n",
       "0             0  0 days 00:00:01.390000  0 days 00:02:44.598000\n",
       "1    SPEAKER_01  0 days 00:00:18.984000  0 days 00:00:23.796000\n",
       "2    SPEAKER_01  0 days 00:00:29.496000  0 days 00:00:30.366000\n",
       "3    SPEAKER_01  0 days 00:01:04.087000  0 days 00:01:04.496000\n",
       "4    SPEAKER_01  0 days 00:01:07.346000  0 days 00:01:07.841000\n",
       "..          ...                     ...                     ...\n",
       "633           0  0 days 02:12:58.383000  0 days 02:12:59.407000\n",
       "634           0  0 days 02:13:02.069000  0 days 02:13:07.751000\n",
       "635           0  0 days 02:13:11.096000  0 days 02:13:11.437000\n",
       "636           0  0 days 02:13:14.987000  0 days 02:13:35.994000\n",
       "637           1  0 days 02:13:32.973000  0 days 02:13:35.994000\n",
       "\n",
       "[638 rows x 3 columns]"
      ]
     },
     "execution_count": 96,
     "metadata": {},
     "output_type": "execute_result"
    }
   ],
   "source": [
    "pd.read_csv(\"diarized_audio/raw_diarizations/flagrant-andrewHubermam-17102022/speaker_turns.csv\")"
   ]
  },
  {
   "cell_type": "code",
   "execution_count": 4,
   "metadata": {},
   "outputs": [],
   "source": [
    "def create_speaker_files(splits_path, to_replace_dict):\n",
    "\n",
    "    speakers = [re.split(\"[,;]\", val)[1::2] for val in list(to_replace_dict.values())]\n",
    "    unique_speakers = list({speaker for subarray in speakers for speaker in subarray})\n",
    "    interventions_dict = {}\n",
    "\n",
    "    for speaker in unique_speakers:\n",
    "        interventions_dict[speaker] = []\n",
    "\n",
    "    global_time = np.float64(0)\n",
    "\n",
    "    splits = os.listdir(splits_path)\n",
    "    assert len(splits) == len(to_replace_dict)\n",
    "\n",
    "    for split in splits:\n",
    "        # get split number with regex that searches for a number\n",
    "        number = re.search(r'\\d+(\\.\\d+)?', split).group()\n",
    "        # get the speakers (SPEAKER_00, SPEAKER_...) that talk in this split\n",
    "        talkers = [\"SPEAKER_\" + number for number in re.split(\"[,;]\", to_replace_dict[\"1\"])[0::2]]\n",
    "\n",
    "\n",
    "\n",
    "\n",
    "\n",
    "\n",
    "\n",
    "\n",
    "\n",
    "\n",
    "\n",
    "\n",
    "    #     #Extraemos los timestamps de todos los talkers\n",
    "    #     with open(split, 'r') as file:\n",
    "    #         for line in file:\n",
    "\n",
    "                \n",
    "\n",
    "    #             # Check if the line needs to be modified\n",
    "    #             if 'some condition' in line:\n",
    "    #                 # Modify the line as needed\n",
    "    #                 modified_line = line.replace('old text', 'new text')\n",
    "    #                 modified_lines.append(modified_line)\n",
    "    #             else:\n",
    "    #                 # If no modification is needed, keep the line as is\n",
    "    #                 modified_lines.append(line)\n",
    "\n",
    "\n",
    "\n",
    "    # # Optionally, write the modified lines back to a file\n",
    "    # with open('yourfile_modified.txt', 'w') as file:\n",
    "    #     for line in modified_lines:\n",
    "    #         file.write(line)\n",
    "\n",
    "\n",
    "# Now 'lines' is a list where each element is a line in the file\n"
   ]
  },
  {
   "cell_type": "code",
   "execution_count": 5,
   "metadata": {},
   "outputs": [],
   "source": [
    "# Format will be split_number:speakers_with_replacement, where speakers\n",
    "# with replacement is a string with the number of speaker to replace and\n",
    "# the name, separated by a comma and separated by semicolon from other\n",
    "# speakers\n",
    "to_replace_dict = {\n",
    "    \"1\":\"00,HUBERMAN;01,ANDREW\",\n",
    "    \"2\":\"00,HUBERMAN;01,ANDREW\",\n",
    "    \"3\":\"01,HUBERMAN;00,ANDREW\",\n",
    "    \"4\":\"00,HUBERMAN;01,ANDREW\",\n",
    "    \"5\":\"02,HUBERMAN;01,ANDREW\",\n",
    "    \"6\":\"01,HUBERMAN;00,ANDREW\",\n",
    "    \"7\":\"01,HUBERMAN\",\n",
    "    \"8\":\"01,HUBERMAN;02,ANDREW\",\n",
    "    \"9\":\"01,HUBERMAN;00,ANDREW\",\n",
    "    \"10\":\"02,HUBERMAN;03,ANDREW\",\n",
    "    \"11\":\"02,HUBERMAN;01,ANDREW\",\n",
    "    \"12\":\"00,HUBERMAN\",\n",
    "    \"13\":\"00,HUBERMAN;01,ANDREW\"\n",
    "}\n",
    "speakers = [re.split(\"[,;]\", val)[1::2] for val in list(to_replace_dict.values())]"
   ]
  },
  {
   "cell_type": "code",
   "execution_count": 18,
   "metadata": {},
   "outputs": [
    {
     "data": {
      "text/plain": [
       "['SPEAKER_00', 'SPEAKER_01']"
      ]
     },
     "execution_count": 18,
     "metadata": {},
     "output_type": "execute_result"
    }
   ],
   "source": [
    "[\"SPEAKER_\" + number for number in re.split(\"[,;]\", to_replace_dict[\"1\"])[0::2]]"
   ]
  },
  {
   "cell_type": "code",
   "execution_count": 21,
   "metadata": {},
   "outputs": [
    {
     "data": {
      "text/plain": [
       "['HUBERMAN', 'ANDREW']"
      ]
     },
     "execution_count": 21,
     "metadata": {},
     "output_type": "execute_result"
    }
   ],
   "source": [
    "speakers = [re.split(\"[,;]\", val)[1::2] for val in list(to_replace_dict.values())]\n",
    "list({speaker for subarray in speakers for speaker in subarray})"
   ]
  },
  {
   "cell_type": "code",
   "execution_count": 8,
   "metadata": {},
   "outputs": [
    {
     "data": {
      "text/plain": [
       "1"
      ]
     },
     "execution_count": 8,
     "metadata": {},
     "output_type": "execute_result"
    }
   ],
   "source": [
    "split = \"split_1_diarized.txt\"\n",
    "int(re.search(r'\\d+(\\.\\d+)?', split).group())"
   ]
  },
  {
   "cell_type": "code",
   "execution_count": 9,
   "metadata": {},
   "outputs": [],
   "source": [
    "dest_path = \"diarized_audio/final_diarizations\"\n"
   ]
  }
 ],
 "metadata": {
  "kernelspec": {
   "display_name": "YTANDWHISPER",
   "language": "python",
   "name": "python3"
  },
  "language_info": {
   "codemirror_mode": {
    "name": "ipython",
    "version": 3
   },
   "file_extension": ".py",
   "mimetype": "text/x-python",
   "name": "python",
   "nbconvert_exporter": "python",
   "pygments_lexer": "ipython3",
   "version": "3.10.13"
  },
  "orig_nbformat": 4
 },
 "nbformat": 4,
 "nbformat_minor": 2
}
